{
 "cells": [
  {
   "cell_type": "markdown",
   "id": "af1f582f",
   "metadata": {},
   "source": [
    "# Hurricane Analysis - Codecademy Project"
   ]
  },
  {
   "cell_type": "markdown",
   "id": "9e1da09d",
   "metadata": {},
   "source": [
    "This project is from the Codecademy Data Scientist Career Path and involves an analysis of hurricanes. For this project I will write several functions that organize and manipulate data about Category 5 Hurricanes, the strongest hurricanes as rated by their wind speed. Each one of these functions will use a number of parameters, conditionals, lists, dictionaries, string manipulation, and return statements."
   ]
  },
  {
   "cell_type": "markdown",
   "id": "d0035356",
   "metadata": {},
   "source": [
    "The data for the project is contained in Data and set out in seperate lists for names of hurricanes, month and year they occurred, max sustained winds, areas affected, damages and deaths.  "
   ]
  },
  {
   "cell_type": "code",
   "execution_count": 29,
   "id": "b4a469e0",
   "metadata": {},
   "outputs": [],
   "source": [
    "from Data import *"
   ]
  },
  {
   "cell_type": "markdown",
   "id": "6d3ba1f4",
   "metadata": {},
   "source": [
    "### Cleaning the Damages List"
   ]
  },
  {
   "cell_type": "markdown",
   "id": "895ec2b1",
   "metadata": {},
   "source": [
    "The damages are recored in the format \"100B\", \"100M\" and \"Damage not recorded\", we want these values to be in float format not string format."
   ]
  },
  {
   "cell_type": "code",
   "execution_count": 30,
   "id": "d2a39e39",
   "metadata": {},
   "outputs": [],
   "source": [
    "def clean_damages(damages):\n",
    "    \"\"\" Takes a list of damages as an input and returns a list with the damages converted from string format to\n",
    "        float format. \"\"\"\n",
    "    conversion = {\"M\": 1000000, \"B\": 1000000000}\n",
    "    new_damages_list = []\n",
    "    for data in damages: \n",
    "        if data.endswith(\"M\"): \n",
    "            data_sr = data.removesuffix(\"M\") \n",
    "            new_damages_list.append(float(data_sr) * conversion[\"M\"])\n",
    "        elif data.endswith(\"B\"):\n",
    "            data_sr = data.removesuffix(\"B\")\n",
    "            new_damages_list.append(float(data_sr) * conversion[\"B\"])\n",
    "        else:\n",
    "            new_damages_list.append(data)\n",
    "    return new_damages_list"
   ]
  },
  {
   "cell_type": "code",
   "execution_count": 31,
   "id": "1906f278",
   "metadata": {},
   "outputs": [
    {
     "name": "stdout",
     "output_type": "stream",
     "text": [
      "['Damages not recorded', 100000000.0, 'Damages not recorded', 40000000.0, 27900000.0, 5000000.0, 'Damages not recorded', 306000000.0, 2000000.0, 65800000.0, 326000000.0, 60300000.0, 208000000.0, 1420000000.0, 25400000.0, 'Damages not recorded', 1540000000.0, 1240000000.0, 7100000000.0, 10000000000.0, 26500000000.0, 6200000000.0, 5370000000.0, 23300000000.0, 1010000000.0, 125000000000.0, 12000000000.0, 29400000000.0, 1760000000.0, 720000000.0, 15100000000.0, 64800000000.0, 91600000000.0, 25100000000.0]\n"
     ]
    }
   ],
   "source": [
    "new_damages = clean_damages(damages)\n",
    "print(new_damages)"
   ]
  },
  {
   "cell_type": "markdown",
   "id": "9b1c5fc6",
   "metadata": {},
   "source": [
    "### Constucting a Dictionary of the Data"
   ]
  },
  {
   "cell_type": "markdown",
   "id": "70e37c78",
   "metadata": {},
   "source": [
    "We want to place all the information into one variable, a dictionary will be used for this with the name of the hurricane as the key (\"master\") and a dictionary of the information as the value for that key."
   ]
  },
  {
   "cell_type": "code",
   "execution_count": 41,
   "id": "13ec82c6",
   "metadata": {},
   "outputs": [],
   "source": [
    "def construct_dictionary(name, month, year, max_sustained_wind, areas_affected, damage, death):\n",
    "    \"\"\" Constructs a dictionary made out of the lists, where the keys of the dictionary are the names of the \n",
    "        hurricanes, and the values are dictionaries themselves containing a key for each piece of data \n",
    "        (Name, Month, Year, Max Sustained Wind, Areas Affected, Damage, Death) about the hurricane.\"\"\"\n",
    "    new_dict = {}\n",
    "    for i in range(len(name)):\n",
    "        new_dict.update({name[i]: {\"Name\": name[i], \"Month\": month[i], \"Year\": year[i], \n",
    "                                   \"Max Sustained Wind\": max_sustained_wind[i], \"Areas Affected\": areas_affected[i],\n",
    "                                   \"Damage\": damage[i], \"Deaths\": death[i]}})\n",
    "    return new_dict"
   ]
  },
  {
   "cell_type": "code",
   "execution_count": 50,
   "id": "779b00b7",
   "metadata": {},
   "outputs": [
    {
     "name": "stdout",
     "output_type": "stream",
     "text": [
      "{'Cuba I': {'Name': 'Cuba I', 'Month': 'October', 'Year': 1924, 'Max Sustained Wind': 165, 'Areas Affected': ['Central America', 'Mexico', 'Cuba', 'Florida', 'The Bahamas'], 'Damage': 'Damages not recorded', 'Deaths': 90}, 'San Felipe II Okeechobee': {'Name': 'San Felipe II Okeechobee', 'Month': 'September', 'Year': 1928, 'Max Sustained Wind': 160, 'Areas Affected': ['Lesser Antilles', 'The Bahamas', 'United States East Coast', 'Atlantic Canada'], 'Damage': 100000000.0, 'Deaths': 4000}, 'Bahamas': {'Name': 'Bahamas', 'Month': 'September', 'Year': 1932, 'Max Sustained Wind': 160, 'Areas Affected': ['The Bahamas', 'Northeastern United States'], 'Damage': 'Damages not recorded', 'Deaths': 16}, 'Cuba II': {'Name': 'Cuba II', 'Month': 'November', 'Year': 1932, 'Max Sustained Wind': 175, 'Areas Affected': ['Lesser Antilles', 'Jamaica', 'Cayman Islands', 'Cuba', 'The Bahamas', 'Bermuda'], 'Damage': 40000000.0, 'Deaths': 3103}, 'CubaBrownsville': {'Name': 'CubaBrownsville', 'Month': 'August', 'Year': 1933, 'Max Sustained Wind': 160, 'Areas Affected': ['The Bahamas', 'Cuba', 'Florida', 'Texas', 'Tamaulipas'], 'Damage': 27900000.0, 'Deaths': 179}, 'Tampico': {'Name': 'Tampico', 'Month': 'September', 'Year': 1933, 'Max Sustained Wind': 160, 'Areas Affected': ['Jamaica', 'Yucatn Peninsula'], 'Damage': 5000000.0, 'Deaths': 184}, 'Labor Day': {'Name': 'Labor Day', 'Month': 'September', 'Year': 1935, 'Max Sustained Wind': 185, 'Areas Affected': ['The Bahamas', 'Florida', 'Georgia', 'The Carolinas', 'Virginia'], 'Damage': 'Damages not recorded', 'Deaths': 408}, 'New England': {'Name': 'New England', 'Month': 'September', 'Year': 1938, 'Max Sustained Wind': 160, 'Areas Affected': ['Southeastern United States', 'Northeastern United States', 'Southwestern Quebec'], 'Damage': 306000000.0, 'Deaths': 682}, 'Carol': {'Name': 'Carol', 'Month': 'September', 'Year': 1953, 'Max Sustained Wind': 160, 'Areas Affected': ['Bermuda', 'New England', 'Atlantic Canada'], 'Damage': 2000000.0, 'Deaths': 5}, 'Janet': {'Name': 'Janet', 'Month': 'September', 'Year': 1955, 'Max Sustained Wind': 175, 'Areas Affected': ['Lesser Antilles', 'Central America'], 'Damage': 65800000.0, 'Deaths': 1023}, 'Carla': {'Name': 'Carla', 'Month': 'September', 'Year': 1961, 'Max Sustained Wind': 175, 'Areas Affected': ['Texas', 'Louisiana', 'Midwestern United States'], 'Damage': 326000000.0, 'Deaths': 43}, 'Hattie': {'Name': 'Hattie', 'Month': 'October', 'Year': 1961, 'Max Sustained Wind': 160, 'Areas Affected': ['Central America'], 'Damage': 60300000.0, 'Deaths': 319}, 'Beulah': {'Name': 'Beulah', 'Month': 'September', 'Year': 1967, 'Max Sustained Wind': 160, 'Areas Affected': ['The Caribbean', 'Mexico', 'Texas'], 'Damage': 208000000.0, 'Deaths': 688}, 'Camille': {'Name': 'Camille', 'Month': 'August', 'Year': 1969, 'Max Sustained Wind': 175, 'Areas Affected': ['Cuba', 'United States Gulf Coast'], 'Damage': 1420000000.0, 'Deaths': 259}, 'Edith': {'Name': 'Edith', 'Month': 'September', 'Year': 1971, 'Max Sustained Wind': 160, 'Areas Affected': ['The Caribbean', 'Central America', 'Mexico', 'United States Gulf Coast'], 'Damage': 25400000.0, 'Deaths': 37}, 'Anita': {'Name': 'Anita', 'Month': 'September', 'Year': 1977, 'Max Sustained Wind': 175, 'Areas Affected': ['Mexico'], 'Damage': 'Damages not recorded', 'Deaths': 11}, 'David': {'Name': 'David', 'Month': 'August', 'Year': 1979, 'Max Sustained Wind': 175, 'Areas Affected': ['The Caribbean', 'United States East coast'], 'Damage': 1540000000.0, 'Deaths': 2068}, 'Allen': {'Name': 'Allen', 'Month': 'August', 'Year': 1980, 'Max Sustained Wind': 190, 'Areas Affected': ['The Caribbean', 'Yucatn Peninsula', 'Mexico', 'South Texas'], 'Damage': 1240000000.0, 'Deaths': 269}, 'Gilbert': {'Name': 'Gilbert', 'Month': 'September', 'Year': 1988, 'Max Sustained Wind': 185, 'Areas Affected': ['Jamaica', 'Venezuela', 'Central America', 'Hispaniola', 'Mexico'], 'Damage': 7100000000.0, 'Deaths': 318}, 'Hugo': {'Name': 'Hugo', 'Month': 'September', 'Year': 1989, 'Max Sustained Wind': 160, 'Areas Affected': ['The Caribbean', 'United States East Coast'], 'Damage': 10000000000.0, 'Deaths': 107}, 'Andrew': {'Name': 'Andrew', 'Month': 'August', 'Year': 1992, 'Max Sustained Wind': 175, 'Areas Affected': ['The Bahamas', 'Florida', 'United States Gulf Coast'], 'Damage': 26500000000.0, 'Deaths': 65}, 'Mitch': {'Name': 'Mitch', 'Month': 'October', 'Year': 1998, 'Max Sustained Wind': 180, 'Areas Affected': ['Central America', 'Yucatn Peninsula', 'South Florida'], 'Damage': 6200000000.0, 'Deaths': 19325}, 'Isabel': {'Name': 'Isabel', 'Month': 'September', 'Year': 2003, 'Max Sustained Wind': 165, 'Areas Affected': ['Greater Antilles', 'Bahamas', 'Eastern United States', 'Ontario'], 'Damage': 5370000000.0, 'Deaths': 51}, 'Ivan': {'Name': 'Ivan', 'Month': 'September', 'Year': 2004, 'Max Sustained Wind': 165, 'Areas Affected': ['The Caribbean', 'Venezuela', 'United States Gulf Coast'], 'Damage': 23300000000.0, 'Deaths': 124}, 'Emily': {'Name': 'Emily', 'Month': 'July', 'Year': 2005, 'Max Sustained Wind': 160, 'Areas Affected': ['Windward Islands', 'Jamaica', 'Mexico', 'Texas'], 'Damage': 1010000000.0, 'Deaths': 17}, 'Katrina': {'Name': 'Katrina', 'Month': 'August', 'Year': 2005, 'Max Sustained Wind': 175, 'Areas Affected': ['Bahamas', 'United States Gulf Coast'], 'Damage': 125000000000.0, 'Deaths': 1836}, 'Rita': {'Name': 'Rita', 'Month': 'September', 'Year': 2005, 'Max Sustained Wind': 180, 'Areas Affected': ['Cuba', 'United States Gulf Coast'], 'Damage': 12000000000.0, 'Deaths': 125}, 'Wilma': {'Name': 'Wilma', 'Month': 'October', 'Year': 2005, 'Max Sustained Wind': 185, 'Areas Affected': ['Greater Antilles', 'Central America', 'Florida'], 'Damage': 29400000000.0, 'Deaths': 87}, 'Dean': {'Name': 'Dean', 'Month': 'August', 'Year': 2007, 'Max Sustained Wind': 175, 'Areas Affected': ['The Caribbean', 'Central America'], 'Damage': 1760000000.0, 'Deaths': 45}, 'Felix': {'Name': 'Felix', 'Month': 'September', 'Year': 2007, 'Max Sustained Wind': 175, 'Areas Affected': ['Nicaragua', 'Honduras'], 'Damage': 720000000.0, 'Deaths': 133}, 'Matthew': {'Name': 'Matthew', 'Month': 'October', 'Year': 2016, 'Max Sustained Wind': 165, 'Areas Affected': ['Antilles', 'Venezuela', 'Colombia', 'United States East Coast', 'Atlantic Canada'], 'Damage': 15100000000.0, 'Deaths': 603}, 'Irma': {'Name': 'Irma', 'Month': 'September', 'Year': 2017, 'Max Sustained Wind': 180, 'Areas Affected': ['Cape Verde', 'The Caribbean', 'British Virgin Islands', 'U.S. Virgin Islands', 'Cuba', 'Florida'], 'Damage': 64800000000.0, 'Deaths': 138}, 'Maria': {'Name': 'Maria', 'Month': 'September', 'Year': 2017, 'Max Sustained Wind': 175, 'Areas Affected': ['Lesser Antilles', 'Virgin Islands', 'Puerto Rico', 'Dominican Republic', 'Turks and Caicos Islands'], 'Damage': 91600000000.0, 'Deaths': 3057}, 'Michael': {'Name': 'Michael', 'Month': 'October', 'Year': 2018, 'Max Sustained Wind': 160, 'Areas Affected': ['Central America', 'United States Gulf Coast (especially Florida Panhandle)'], 'Damage': 25100000000.0, 'Deaths': 74}}\n"
     ]
    }
   ],
   "source": [
    "hurricanes_data = construct_dictionary(names, months, years, max_sustained_winds, areas_affected, new_damages, deaths)\n",
    "print(hurricanes_data)"
   ]
  },
  {
   "cell_type": "markdown",
   "id": "a8d5bd3a",
   "metadata": {},
   "source": [
    "We might want to change the \"master\" key to a different data point (e.g. \"Year), this next function will take care of that. "
   ]
  },
  {
   "cell_type": "code",
   "execution_count": 43,
   "id": "086bdb53",
   "metadata": {},
   "outputs": [],
   "source": [
    "def change_master_key(dict1, new_master_key):\n",
    "    \"\"\" Takes dict1 and changes the initial key value to new_master_key. \"\"\"\n",
    "    new_dict = {}\n",
    "    for key in dict1:\n",
    "        new_key = dict1[key][new_master_key]\n",
    "        current_cane = dict1[key]\n",
    "        if new_key not in new_dict:\n",
    "            new_dict[new_key] = [current_cane]\n",
    "        else:\n",
    "            new_dict[new_key].append(current_cane)\n",
    "    return new_dict"
   ]
  },
  {
   "cell_type": "code",
   "execution_count": 51,
   "id": "b3420c16",
   "metadata": {},
   "outputs": [
    {
     "name": "stdout",
     "output_type": "stream",
     "text": [
      "{1924: [{'Name': 'Cuba I', 'Month': 'October', 'Year': 1924, 'Max Sustained Wind': 165, 'Areas Affected': ['Central America', 'Mexico', 'Cuba', 'Florida', 'The Bahamas'], 'Damage': 'Damages not recorded', 'Deaths': 90}], 1928: [{'Name': 'San Felipe II Okeechobee', 'Month': 'September', 'Year': 1928, 'Max Sustained Wind': 160, 'Areas Affected': ['Lesser Antilles', 'The Bahamas', 'United States East Coast', 'Atlantic Canada'], 'Damage': 100000000.0, 'Deaths': 4000}], 1932: [{'Name': 'Bahamas', 'Month': 'September', 'Year': 1932, 'Max Sustained Wind': 160, 'Areas Affected': ['The Bahamas', 'Northeastern United States'], 'Damage': 'Damages not recorded', 'Deaths': 16}, {'Name': 'Cuba II', 'Month': 'November', 'Year': 1932, 'Max Sustained Wind': 175, 'Areas Affected': ['Lesser Antilles', 'Jamaica', 'Cayman Islands', 'Cuba', 'The Bahamas', 'Bermuda'], 'Damage': 40000000.0, 'Deaths': 3103}], 1933: [{'Name': 'CubaBrownsville', 'Month': 'August', 'Year': 1933, 'Max Sustained Wind': 160, 'Areas Affected': ['The Bahamas', 'Cuba', 'Florida', 'Texas', 'Tamaulipas'], 'Damage': 27900000.0, 'Deaths': 179}, {'Name': 'Tampico', 'Month': 'September', 'Year': 1933, 'Max Sustained Wind': 160, 'Areas Affected': ['Jamaica', 'Yucatn Peninsula'], 'Damage': 5000000.0, 'Deaths': 184}], 1935: [{'Name': 'Labor Day', 'Month': 'September', 'Year': 1935, 'Max Sustained Wind': 185, 'Areas Affected': ['The Bahamas', 'Florida', 'Georgia', 'The Carolinas', 'Virginia'], 'Damage': 'Damages not recorded', 'Deaths': 408}], 1938: [{'Name': 'New England', 'Month': 'September', 'Year': 1938, 'Max Sustained Wind': 160, 'Areas Affected': ['Southeastern United States', 'Northeastern United States', 'Southwestern Quebec'], 'Damage': 306000000.0, 'Deaths': 682}], 1953: [{'Name': 'Carol', 'Month': 'September', 'Year': 1953, 'Max Sustained Wind': 160, 'Areas Affected': ['Bermuda', 'New England', 'Atlantic Canada'], 'Damage': 2000000.0, 'Deaths': 5}], 1955: [{'Name': 'Janet', 'Month': 'September', 'Year': 1955, 'Max Sustained Wind': 175, 'Areas Affected': ['Lesser Antilles', 'Central America'], 'Damage': 65800000.0, 'Deaths': 1023}], 1961: [{'Name': 'Carla', 'Month': 'September', 'Year': 1961, 'Max Sustained Wind': 175, 'Areas Affected': ['Texas', 'Louisiana', 'Midwestern United States'], 'Damage': 326000000.0, 'Deaths': 43}, {'Name': 'Hattie', 'Month': 'October', 'Year': 1961, 'Max Sustained Wind': 160, 'Areas Affected': ['Central America'], 'Damage': 60300000.0, 'Deaths': 319}], 1967: [{'Name': 'Beulah', 'Month': 'September', 'Year': 1967, 'Max Sustained Wind': 160, 'Areas Affected': ['The Caribbean', 'Mexico', 'Texas'], 'Damage': 208000000.0, 'Deaths': 688}], 1969: [{'Name': 'Camille', 'Month': 'August', 'Year': 1969, 'Max Sustained Wind': 175, 'Areas Affected': ['Cuba', 'United States Gulf Coast'], 'Damage': 1420000000.0, 'Deaths': 259}], 1971: [{'Name': 'Edith', 'Month': 'September', 'Year': 1971, 'Max Sustained Wind': 160, 'Areas Affected': ['The Caribbean', 'Central America', 'Mexico', 'United States Gulf Coast'], 'Damage': 25400000.0, 'Deaths': 37}], 1977: [{'Name': 'Anita', 'Month': 'September', 'Year': 1977, 'Max Sustained Wind': 175, 'Areas Affected': ['Mexico'], 'Damage': 'Damages not recorded', 'Deaths': 11}], 1979: [{'Name': 'David', 'Month': 'August', 'Year': 1979, 'Max Sustained Wind': 175, 'Areas Affected': ['The Caribbean', 'United States East coast'], 'Damage': 1540000000.0, 'Deaths': 2068}], 1980: [{'Name': 'Allen', 'Month': 'August', 'Year': 1980, 'Max Sustained Wind': 190, 'Areas Affected': ['The Caribbean', 'Yucatn Peninsula', 'Mexico', 'South Texas'], 'Damage': 1240000000.0, 'Deaths': 269}], 1988: [{'Name': 'Gilbert', 'Month': 'September', 'Year': 1988, 'Max Sustained Wind': 185, 'Areas Affected': ['Jamaica', 'Venezuela', 'Central America', 'Hispaniola', 'Mexico'], 'Damage': 7100000000.0, 'Deaths': 318}], 1989: [{'Name': 'Hugo', 'Month': 'September', 'Year': 1989, 'Max Sustained Wind': 160, 'Areas Affected': ['The Caribbean', 'United States East Coast'], 'Damage': 10000000000.0, 'Deaths': 107}], 1992: [{'Name': 'Andrew', 'Month': 'August', 'Year': 1992, 'Max Sustained Wind': 175, 'Areas Affected': ['The Bahamas', 'Florida', 'United States Gulf Coast'], 'Damage': 26500000000.0, 'Deaths': 65}], 1998: [{'Name': 'Mitch', 'Month': 'October', 'Year': 1998, 'Max Sustained Wind': 180, 'Areas Affected': ['Central America', 'Yucatn Peninsula', 'South Florida'], 'Damage': 6200000000.0, 'Deaths': 19325}], 2003: [{'Name': 'Isabel', 'Month': 'September', 'Year': 2003, 'Max Sustained Wind': 165, 'Areas Affected': ['Greater Antilles', 'Bahamas', 'Eastern United States', 'Ontario'], 'Damage': 5370000000.0, 'Deaths': 51}], 2004: [{'Name': 'Ivan', 'Month': 'September', 'Year': 2004, 'Max Sustained Wind': 165, 'Areas Affected': ['The Caribbean', 'Venezuela', 'United States Gulf Coast'], 'Damage': 23300000000.0, 'Deaths': 124}], 2005: [{'Name': 'Emily', 'Month': 'July', 'Year': 2005, 'Max Sustained Wind': 160, 'Areas Affected': ['Windward Islands', 'Jamaica', 'Mexico', 'Texas'], 'Damage': 1010000000.0, 'Deaths': 17}, {'Name': 'Katrina', 'Month': 'August', 'Year': 2005, 'Max Sustained Wind': 175, 'Areas Affected': ['Bahamas', 'United States Gulf Coast'], 'Damage': 125000000000.0, 'Deaths': 1836}, {'Name': 'Rita', 'Month': 'September', 'Year': 2005, 'Max Sustained Wind': 180, 'Areas Affected': ['Cuba', 'United States Gulf Coast'], 'Damage': 12000000000.0, 'Deaths': 125}, {'Name': 'Wilma', 'Month': 'October', 'Year': 2005, 'Max Sustained Wind': 185, 'Areas Affected': ['Greater Antilles', 'Central America', 'Florida'], 'Damage': 29400000000.0, 'Deaths': 87}], 2007: [{'Name': 'Dean', 'Month': 'August', 'Year': 2007, 'Max Sustained Wind': 175, 'Areas Affected': ['The Caribbean', 'Central America'], 'Damage': 1760000000.0, 'Deaths': 45}, {'Name': 'Felix', 'Month': 'September', 'Year': 2007, 'Max Sustained Wind': 175, 'Areas Affected': ['Nicaragua', 'Honduras'], 'Damage': 720000000.0, 'Deaths': 133}], 2016: [{'Name': 'Matthew', 'Month': 'October', 'Year': 2016, 'Max Sustained Wind': 165, 'Areas Affected': ['Antilles', 'Venezuela', 'Colombia', 'United States East Coast', 'Atlantic Canada'], 'Damage': 15100000000.0, 'Deaths': 603}], 2017: [{'Name': 'Irma', 'Month': 'September', 'Year': 2017, 'Max Sustained Wind': 180, 'Areas Affected': ['Cape Verde', 'The Caribbean', 'British Virgin Islands', 'U.S. Virgin Islands', 'Cuba', 'Florida'], 'Damage': 64800000000.0, 'Deaths': 138}, {'Name': 'Maria', 'Month': 'September', 'Year': 2017, 'Max Sustained Wind': 175, 'Areas Affected': ['Lesser Antilles', 'Virgin Islands', 'Puerto Rico', 'Dominican Republic', 'Turks and Caicos Islands'], 'Damage': 91600000000.0, 'Deaths': 3057}], 2018: [{'Name': 'Michael', 'Month': 'October', 'Year': 2018, 'Max Sustained Wind': 160, 'Areas Affected': ['Central America', 'United States Gulf Coast (especially Florida Panhandle)'], 'Damage': 25100000000.0, 'Deaths': 74}]}\n"
     ]
    }
   ],
   "source": [
    "hurricanes_data_year_first = change_master_key(hurricanes, \"Year\")\n",
    "print(hurricanes_data_year_first)"
   ]
  },
  {
   "cell_type": "markdown",
   "id": "13f0cb9d",
   "metadata": {},
   "source": [
    "### What areas were affected?"
   ]
  },
  {
   "cell_type": "markdown",
   "id": "729e6ad2",
   "metadata": {},
   "source": [
    "We want to find out what areas were affected by hurricanes and how frequently they were affected."
   ]
  },
  {
   "cell_type": "code",
   "execution_count": 52,
   "id": "01d2a5d8",
   "metadata": {},
   "outputs": [],
   "source": [
    "def count_areas(data):\n",
    "    \"\"\" Counts how often each area is listed as an affected area of a hurricane and returns the results in a \n",
    "        dictionary where the keys are the affected areas and the values are counts of how many times the areas \n",
    "        were affected.\"\"\"\n",
    "    count = []\n",
    "    areas = []\n",
    "    areas_from_data = []\n",
    "    for cane in data:\n",
    "        for area in data[cane][\"Areas Affected\"]:\n",
    "            areas_from_data.append(area)\n",
    "    for area in areas_from_data:\n",
    "        if area not in areas:\n",
    "            areas.append(area)\n",
    "    count = [areas_from_data.count(area) for area in areas]\n",
    "    area_count_dict = {area: cnt for area, cnt in zip(areas, count)}\n",
    "    return area_count_dict"
   ]
  },
  {
   "cell_type": "code",
   "execution_count": 53,
   "id": "8bec165a",
   "metadata": {},
   "outputs": [
    {
     "name": "stdout",
     "output_type": "stream",
     "text": [
      "{'Central America': 9, 'Mexico': 7, 'Cuba': 6, 'Florida': 6, 'The Bahamas': 7, 'Lesser Antilles': 4, 'United States East Coast': 3, 'Atlantic Canada': 3, 'Northeastern United States': 2, 'Jamaica': 4, 'Cayman Islands': 1, 'Bermuda': 2, 'Texas': 4, 'Tamaulipas': 1, 'Yucatn Peninsula': 3, 'Georgia': 1, 'The Carolinas': 1, 'Virginia': 1, 'Southeastern United States': 1, 'Southwestern Quebec': 1, 'New England': 1, 'Louisiana': 1, 'Midwestern United States': 1, 'The Caribbean': 8, 'United States Gulf Coast': 6, 'United States East coast': 1, 'South Texas': 1, 'Venezuela': 3, 'Hispaniola': 1, 'South Florida': 1, 'Greater Antilles': 2, 'Bahamas': 2, 'Eastern United States': 1, 'Ontario': 1, 'Windward Islands': 1, 'Nicaragua': 1, 'Honduras': 1, 'Antilles': 1, 'Colombia': 1, 'Cape Verde': 1, 'British Virgin Islands': 1, 'U.S. Virgin Islands': 1, 'Virgin Islands': 1, 'Puerto Rico': 1, 'Dominican Republic': 1, 'Turks and Caicos Islands': 1, 'United States Gulf Coast (especially Florida Panhandle)': 1}\n"
     ]
    }
   ],
   "source": [
    "areas_affected = count_areas(hurricanes_data)\n",
    "print(areas_affected)"
   ]
  },
  {
   "cell_type": "markdown",
   "id": "c35d3088",
   "metadata": {},
   "source": [
    "Now that we know what areas were affected and how often they were, we can find the areas that were most frequently affected."
   ]
  },
  {
   "cell_type": "code",
   "execution_count": 46,
   "id": "a7d5787b",
   "metadata": {},
   "outputs": [],
   "source": [
    "def area_most_affected(data):\n",
    "    \"\"\" Counts the areas most affected by hurricanes and returns them in a dictionary, with the area affected as \n",
    "        the key and the frequency as the value. \"\"\"\n",
    "    vals = list(data.values())\n",
    "    max_val = max(vals)\n",
    "    most_affected_dict = {}\n",
    "    for key in data:\n",
    "        if data[key] == max_val:\n",
    "            most_affected_dict[key] = max_val\n",
    "    return most_affected_dict"
   ]
  },
  {
   "cell_type": "code",
   "execution_count": 55,
   "id": "f5a81dbd",
   "metadata": {},
   "outputs": [
    {
     "name": "stdout",
     "output_type": "stream",
     "text": [
      "{'Central America': 9}\n"
     ]
    }
   ],
   "source": [
    "area_affected_most = area_most_affected(areas_affected)\n",
    "print(area_affected_most)"
   ]
  },
  {
   "cell_type": "markdown",
   "id": "dfca1c64",
   "metadata": {},
   "source": [
    "### Which hurricance caused the most deaths?"
   ]
  },
  {
   "cell_type": "markdown",
   "id": "fdbd7448",
   "metadata": {},
   "source": [
    "We want to find which hurricane caused the most deaths, so the next fucntion will deal with that."
   ]
  },
  {
   "cell_type": "code",
   "execution_count": 56,
   "id": "b72bcb0a",
   "metadata": {},
   "outputs": [],
   "source": [
    "def most_deaths(data):\n",
    "    \"\"\" Returns the hurricane that caused the most deaths and the number of deaths the hurricane caused. \"\"\"\n",
    "    death_count_dict = {key: data[key][\"Deaths\"] for key in data}\n",
    "    max_deaths = max(death_count_dict.values())\n",
    "    for key in death_count_dict:\n",
    "        if death_count_dict[key] == max_deaths:\n",
    "            return key, death_count_dict[key]"
   ]
  },
  {
   "cell_type": "code",
   "execution_count": 57,
   "id": "199fa283",
   "metadata": {},
   "outputs": [
    {
     "name": "stdout",
     "output_type": "stream",
     "text": [
      "('Mitch', 19325)\n"
     ]
    }
   ],
   "source": [
    "area_most_deaths = most_deaths(hurricanes)\n",
    "print(area_most_deaths)"
   ]
  },
  {
   "cell_type": "markdown",
   "id": "2c3f401a",
   "metadata": {},
   "source": [
    "We now know what hurricane caused the most damage to life, but what about the others? We want to create a mortality scale best on the number of deaths caused by the hurricane. The scale will be rated from 0 - 5 based on the following bounds:\n",
    "* 0 - 0 Deaths\n",
    "* 1 - 0 $< $ Deaths $\\leq $ 100\n",
    "* 2 - 100 $< $ Deaths $\\leq $ 500\n",
    "* 3 - 500 $< $ Deaths $\\leq $ 1000\n",
    "* 4 - 1000 $< $ Deaths $\\leq $ 10000\n",
    "* 5 - Deaths $> $ 10000"
   ]
  },
  {
   "cell_type": "code",
   "execution_count": 59,
   "id": "b6503643",
   "metadata": {},
   "outputs": [],
   "source": [
    "def mortality_scale(data):\n",
    "    \"\"\" Returns a dictionary of the names of hurricanes rated on a mortality scale where the mortality scale is the\n",
    "        key. \"\"\"\n",
    "    mortality_dict = {0: [], 1: [], 2: [], 3: [], 4: [], 5: []}\n",
    "    for key in hurricanes:\n",
    "        if data[key][\"Deaths\"] == 0:\n",
    "            mortality_dict[0].append(key)\n",
    "        elif data[key][\"Deaths\"] > 0 and data[key][\"Deaths\"] <= 100:\n",
    "            mortality_dict[1].append(key)\n",
    "        elif data[key][\"Deaths\"] > 100 and data[key][\"Deaths\"] <= 500:\n",
    "            mortality_dict[2].append(key)\n",
    "        elif data[key][\"Deaths\"] > 500 and data[key][\"Deaths\"] <= 1000:\n",
    "            mortality_dict[3].append(key)\n",
    "        elif data[key][\"Deaths\"] > 1000 and data[key][\"Deaths\"] <=10000:\n",
    "            mortality_dict[4].append(key)\n",
    "        else:\n",
    "            mortality_dict[5].append(key)\n",
    "    return mortality_dict"
   ]
  },
  {
   "cell_type": "code",
   "execution_count": 61,
   "id": "fddf792a",
   "metadata": {},
   "outputs": [
    {
     "name": "stdout",
     "output_type": "stream",
     "text": [
      "{0: [], 1: ['Cuba I', 'Bahamas', 'Carol', 'Carla', 'Edith', 'Anita', 'Andrew', 'Isabel', 'Emily', 'Wilma', 'Dean', 'Michael'], 2: ['CubaBrownsville', 'Tampico', 'Labor Day', 'Hattie', 'Camille', 'Allen', 'Gilbert', 'Hugo', 'Ivan', 'Rita', 'Felix', 'Irma'], 3: ['New England', 'Beulah', 'Matthew'], 4: ['San Felipe II Okeechobee', 'Cuba II', 'Janet', 'David', 'Katrina', 'Maria'], 5: ['Mitch']}\n"
     ]
    }
   ],
   "source": [
    "mortality = mortality_scale(hurricanes)\n",
    "print(mortality)"
   ]
  },
  {
   "cell_type": "markdown",
   "id": "bc51ddf9",
   "metadata": {},
   "source": [
    "### Which hurricane caused the most damage?"
   ]
  },
  {
   "cell_type": "markdown",
   "id": "246ae406",
   "metadata": {},
   "source": [
    "Finally, we want to take a look at damages, we will first find which hurricane caused the most damage and the value of that damage."
   ]
  },
  {
   "cell_type": "code",
   "execution_count": 62,
   "id": "f4a1c917",
   "metadata": {},
   "outputs": [],
   "source": [
    "def greatest_damage(data):\n",
    "    \"\"\" Returns the hurricane that caused the most damage and the value of that damage in dollars. \"\"\"\n",
    "    name = \"\"\n",
    "    damage = 0.0\n",
    "    for key in data:\n",
    "        if data[key][\"Damage\"] == \"Damages not recorded\": \n",
    "            continue\n",
    "        elif data[key][\"Damage\"] > damage:\n",
    "            name = key\n",
    "            damage = data[key][\"Damage\"]\n",
    "    return name, damage"
   ]
  },
  {
   "cell_type": "code",
   "execution_count": 63,
   "id": "ceeea539",
   "metadata": {},
   "outputs": [
    {
     "name": "stdout",
     "output_type": "stream",
     "text": [
      "('Katrina', 125000000000.0)\n"
     ]
    }
   ],
   "source": [
    "most_damage = greatest_damage(hurricanes)\n",
    "print(most_damage)"
   ]
  },
  {
   "cell_type": "markdown",
   "id": "3dbbb221",
   "metadata": {},
   "source": [
    "Now to finish off, we will rate the hurricanes on a damage scale, similar to the mortality scale above where the bounds are: \n",
    "* 0 - \\\\$ 0 Damage\n",
    "* 1 - \\\\$ 0 $<$ Damage $\\leq$ \\\\$ 100,000,000\n",
    "* 2 - \\\\$ 100,000,000 $<$ Damage $\\leq$ \\\\$ 1,000,000,000\n",
    "* 3 - \\\\$ 1,000,000,000 $<$ Damage $\\leq$ \\\\$ 10,000,000,000\n",
    "* 4 - \\\\$ 10,000,000,000 $<$ Damage $\\leq$ \\\\$ 100,000,000,000\n",
    "* 5 - Damage $>$ \\\\$ 100,000,000,000"
   ]
  },
  {
   "cell_type": "code",
   "execution_count": 64,
   "id": "729679c0",
   "metadata": {},
   "outputs": [],
   "source": [
    "def damage_scale(data):\n",
    "    \"\"\" Returns a dictionary of the names of hurricanes rated on a damage scale where the damage scale is the\n",
    "        key. \"\"\"\n",
    "    scale = {0: [], 1: [], 2: [], 3: [], 4: [], 5: []}\n",
    "    for key in data:\n",
    "        if data[key][\"Damage\"] == \"Damages not recorded\":\n",
    "            continue\n",
    "        elif data[key][\"Damage\"] == 0:\n",
    "            scale[0].append(key)\n",
    "        elif data[key][\"Damage\"] > 0 and data[key][\"Damage\"] <= 100000000:\n",
    "            scale[1].append(key)\n",
    "        elif data[key][\"Damage\"] > 100000000 and data[key][\"Damage\"] <= 1000000000:\n",
    "            scale[2].append(key)\n",
    "        elif data[key][\"Damage\"] > 1000000000 and data[key][\"Damage\"] <= 10000000000:\n",
    "            scale[3].append(key)\n",
    "        elif data[key][\"Damage\"] > 10000000000 and data[key][\"Damage\"] <= 100000000000:\n",
    "            scale[4].append(key)\n",
    "        else:\n",
    "            scale[5].append(key)\n",
    "    return scale"
   ]
  },
  {
   "cell_type": "code",
   "execution_count": 65,
   "id": "4313468e",
   "metadata": {},
   "outputs": [
    {
     "name": "stdout",
     "output_type": "stream",
     "text": [
      "{0: [], 1: ['San Felipe II Okeechobee', 'Cuba II', 'CubaBrownsville', 'Tampico', 'Carol', 'Janet', 'Hattie', 'Edith'], 2: ['New England', 'Carla', 'Beulah', 'Felix'], 3: ['Camille', 'David', 'Allen', 'Gilbert', 'Hugo', 'Mitch', 'Isabel', 'Emily', 'Dean'], 4: ['Andrew', 'Ivan', 'Rita', 'Wilma', 'Matthew', 'Irma', 'Maria', 'Michael'], 5: ['Katrina']}\n"
     ]
    }
   ],
   "source": [
    "damage_scl = damage_scale(hurricanes)\n",
    "print(damage_scl)"
   ]
  },
  {
   "cell_type": "code",
   "execution_count": null,
   "id": "02b74539",
   "metadata": {},
   "outputs": [],
   "source": []
  }
 ],
 "metadata": {
  "kernelspec": {
   "display_name": "Python 3",
   "language": "python",
   "name": "python3"
  },
  "language_info": {
   "codemirror_mode": {
    "name": "ipython",
    "version": 3
   },
   "file_extension": ".py",
   "mimetype": "text/x-python",
   "name": "python",
   "nbconvert_exporter": "python",
   "pygments_lexer": "ipython3",
   "version": "3.9.4"
  }
 },
 "nbformat": 4,
 "nbformat_minor": 5
}
